{
  "nbformat": 4,
  "nbformat_minor": 0,
  "metadata": {
    "colab": {
      "provenance": [],
      "authorship_tag": "ABX9TyOlpojxT2bttV/uJt5gzx3P",
      "include_colab_link": true
    },
    "kernelspec": {
      "name": "python3",
      "display_name": "Python 3"
    },
    "language_info": {
      "name": "python"
    }
  },
  "cells": [
    {
      "cell_type": "markdown",
      "metadata": {
        "id": "view-in-github",
        "colab_type": "text"
      },
      "source": [
        "<a href=\"https://colab.research.google.com/github/I-scream-icecream/Finance-dashboard/blob/main/Forexfactory.ipynb\" target=\"_parent\"><img src=\"https://colab.research.google.com/assets/colab-badge.svg\" alt=\"Open In Colab\"/></a>"
      ]
    },
    {
      "cell_type": "code",
      "source": [
        "!pip install selenium"
      ],
      "metadata": {
        "colab": {
          "base_uri": "https://localhost:8080/"
        },
        "id": "c1DqfrpO_7gP",
        "outputId": "fc6a6dfe-dcf9-43b2-e868-e5427f5cf5d8"
      },
      "execution_count": null,
      "outputs": [
        {
          "output_type": "stream",
          "name": "stdout",
          "text": [
            "Collecting selenium\n",
            "  Downloading selenium-4.18.1-py3-none-any.whl (10.0 MB)\n",
            "\u001b[2K     \u001b[90m━━━━━━━━━━━━━━━━━━━━━━━━━━━━━━━━━━━━━━━━\u001b[0m \u001b[32m10.0/10.0 MB\u001b[0m \u001b[31m49.2 MB/s\u001b[0m eta \u001b[36m0:00:00\u001b[0m\n",
            "\u001b[?25hRequirement already satisfied: urllib3[socks]<3,>=1.26 in /usr/local/lib/python3.10/dist-packages (from selenium) (2.0.7)\n",
            "Collecting trio~=0.17 (from selenium)\n",
            "  Downloading trio-0.24.0-py3-none-any.whl (460 kB)\n",
            "\u001b[2K     \u001b[90m━━━━━━━━━━━━━━━━━━━━━━━━━━━━━━━━━━━━━━━━\u001b[0m \u001b[32m460.2/460.2 kB\u001b[0m \u001b[31m38.9 MB/s\u001b[0m eta \u001b[36m0:00:00\u001b[0m\n",
            "\u001b[?25hCollecting trio-websocket~=0.9 (from selenium)\n",
            "  Downloading trio_websocket-0.11.1-py3-none-any.whl (17 kB)\n",
            "Requirement already satisfied: certifi>=2021.10.8 in /usr/local/lib/python3.10/dist-packages (from selenium) (2024.2.2)\n",
            "Requirement already satisfied: typing_extensions>=4.9.0 in /usr/local/lib/python3.10/dist-packages (from selenium) (4.10.0)\n",
            "Requirement already satisfied: attrs>=20.1.0 in /usr/local/lib/python3.10/dist-packages (from trio~=0.17->selenium) (23.2.0)\n",
            "Requirement already satisfied: sortedcontainers in /usr/local/lib/python3.10/dist-packages (from trio~=0.17->selenium) (2.4.0)\n",
            "Requirement already satisfied: idna in /usr/local/lib/python3.10/dist-packages (from trio~=0.17->selenium) (3.6)\n",
            "Collecting outcome (from trio~=0.17->selenium)\n",
            "  Downloading outcome-1.3.0.post0-py2.py3-none-any.whl (10 kB)\n",
            "Requirement already satisfied: sniffio>=1.3.0 in /usr/local/lib/python3.10/dist-packages (from trio~=0.17->selenium) (1.3.1)\n",
            "Requirement already satisfied: exceptiongroup in /usr/local/lib/python3.10/dist-packages (from trio~=0.17->selenium) (1.2.0)\n",
            "Collecting wsproto>=0.14 (from trio-websocket~=0.9->selenium)\n",
            "  Downloading wsproto-1.2.0-py3-none-any.whl (24 kB)\n",
            "Requirement already satisfied: pysocks!=1.5.7,<2.0,>=1.5.6 in /usr/local/lib/python3.10/dist-packages (from urllib3[socks]<3,>=1.26->selenium) (1.7.1)\n",
            "Collecting h11<1,>=0.9.0 (from wsproto>=0.14->trio-websocket~=0.9->selenium)\n",
            "  Downloading h11-0.14.0-py3-none-any.whl (58 kB)\n",
            "\u001b[2K     \u001b[90m━━━━━━━━━━━━━━━━━━━━━━━━━━━━━━━━━━━━━━━━\u001b[0m \u001b[32m58.3/58.3 kB\u001b[0m \u001b[31m6.7 MB/s\u001b[0m eta \u001b[36m0:00:00\u001b[0m\n",
            "\u001b[?25hInstalling collected packages: outcome, h11, wsproto, trio, trio-websocket, selenium\n",
            "Successfully installed h11-0.14.0 outcome-1.3.0.post0 selenium-4.18.1 trio-0.24.0 trio-websocket-0.11.1 wsproto-1.2.0\n"
          ]
        }
      ]
    },
    {
      "cell_type": "code",
      "execution_count": null,
      "metadata": {
        "colab": {
          "base_uri": "https://localhost:8080/"
        },
        "id": "mPFnQzQU_1_5",
        "outputId": "4f2f99e7-d966-4cb3-efe5-6511ceba1b17"
      },
      "outputs": [
        {
          "output_type": "stream",
          "name": "stdout",
          "text": [
            "done\n"
          ]
        }
      ],
      "source": [
        "import random\n",
        "import selenium\n",
        "import pandas as pd\n",
        "from selenium import webdriver\n",
        "from selenium.webdriver.chrome.options import Options\n",
        "from selenium.webdriver.common.by import By\n",
        "import csv\n",
        "\n",
        "def create_driver():\n",
        "    user_agent_list = [\n",
        "        'Mozilla/5.0 (Windows NT 10.0; Win64; x64) AppleWebKit/537.36 (KHTML, like Gecko) Chrome/92.0.4515.131 Safari/537.36',\n",
        "        'Mozilla/5.0 (Windows NT 10.0; Win64; x64; rv:90.0) Gecko/20100101 Firefox/90.0',\n",
        "        'Mozilla/5.0 (Macintosh; Intel Mac OS X 11.5; rv:90.0) Gecko/20100101 Firefox/90.0',\n",
        "        'Mozilla/5.0 (Windows NT 10.0) AppleWebKit/537.36 (KHTML, like Gecko) Chrome/92.0.4515.131 Safari/537.36',\n",
        "        'Mozilla/5.0 (Macintosh; Intel Mac OS X 11_5_1) AppleWebKit/537.36 (KHTML, like Gecko) Chrome/92.0.4515.131 Safari/537.36',\n",
        "        'Mozilla/5.0 (X11; Ubuntu; Linux x86_64; rv:90.0) Gecko/20100101 Firefox/90.0',\n",
        "        'Mozilla/5.0 (X11; Linux x86_64) AppleWebKit/537.36 (KHTML, like Gecko) Chrome/92.0.4515.131 Safari/537.36'\n",
        "    ]\n",
        "    user_agent = random.choice(user_agent_list)\n",
        "\n",
        "    browser_options = webdriver.ChromeOptions()\n",
        "    browser_options.add_argument(\"--no-sandbox\")\n",
        "    browser_options.add_argument(\"--headless\")\n",
        "    browser_options.add_argument(\"start-maximized\")\n",
        "    browser_options.add_argument(\"window-size=1900,6000\")\n",
        "    browser_options.add_argument(\"disable-gpu\")\n",
        "    browser_options.add_argument(\"--disable-software-rasterizer\")\n",
        "    browser_options.add_argument(\"--disable-dev-shm-usage\")\n",
        "    browser_options.add_argument(f'user-agent={user_agent}')\n",
        "\n",
        "    driver = webdriver.Chrome(options=browser_options)\n",
        "\n",
        "    return driver\n",
        "\n",
        "def parse_data(driver, url):\n",
        "    driver.get(url)\n",
        "\n",
        "    data_table = driver.find_element(By.CLASS_NAME, \"calendar__table\")\n",
        "    value_list = []\n",
        "\n",
        "    for row in data_table.find_elements(By.TAG_NAME, \"tr\"):\n",
        "        row_data = list(filter(None, [td.text for td in row.find_elements(By.TAG_NAME, \"td\")]))\n",
        "        if row_data:\n",
        "            value_list.append(row_data)  # Append only if row_data has content\n",
        "\n",
        "    # Corrected variable name for consistency\n",
        "    result_list = []\n",
        "    currencies = ['CAD', 'JPY', 'USD', 'GBP', 'EUR', 'NZD', 'AUD', 'CHF', 'CNY']\n",
        "    for row in value_list:\n",
        "        if len(row) == 1:\n",
        "            result_list.append(row)\n",
        "        elif row[1] in currencies:\n",
        "            result_list.append([None] + row)  # Add None for missing Date\n",
        "        elif row[0] in currencies:\n",
        "            result_list.append([None, None] + row)  # Add None for both Date and Time\n",
        "        else:\n",
        "            result_list.append(row)  # Keep the row as is\n",
        "\n",
        "    # Create DataFrame with appropriate column names\n",
        "    df = pd.DataFrame(result_list, columns=['Date', 'Time', 'Currency', 'Impact', 'Actual', 'Forecast', 'Previous'])\n",
        "\n",
        "    # Save DataFrame to CSV\n",
        "    df.to_csv(\"table_data.csv\", index=False)\n",
        "    print(\"done\")\n",
        "\n",
        "driver = create_driver()\n",
        "url = 'https://www.forexfactory.com/calendar'\n",
        "\n",
        "value_list = parse_data(driver=driver, url=url)\n",
        "\n"
      ]
    }
  ]
}